{
 "cells": [
  {
   "cell_type": "code",
   "execution_count": null,
   "metadata": {},
   "outputs": [],
   "source": [
    "def Feature_Seg(Gait_Data_Set):\n",
    "    \n",
    "    Feature_Set = []\n",
    "\n",
    "    for i in range(0,int(len(Gait_Data_Set)/3)):\n",
    "\n",
    "        s = i * 3\n",
    "\n",
    "        Segment_Set = []\n",
    "\n",
    "        for j in range(0,6):     # 6 = 3 seconds / 0.5 seconds\n",
    "\n",
    "            W = j*64             # 0.5 Seconds\n",
    "\n",
    "            Feature = np.vstack((Gait_Data_Set[s+0][W:W+64], Gait_Data_Set[s+1][W:W+64], Gait_Data_Set[s+2][W:W+64]))\n",
    "         \n",
    "            Segment_Set.append(Feature)\n",
    "\n",
    "        Feature_Set.append(Segment_Set)\n",
    "        \n",
    "    return(Feature_Set)"
   ]
  }
 ],
 "metadata": {
  "kernelspec": {
   "display_name": "Python 3",
   "language": "python",
   "name": "python3"
  },
  "language_info": {
   "codemirror_mode": {
    "name": "ipython",
    "version": 3
   },
   "file_extension": ".py",
   "mimetype": "text/x-python",
   "name": "python",
   "nbconvert_exporter": "python",
   "pygments_lexer": "ipython3",
   "version": "3.6.5"
  }
 },
 "nbformat": 4,
 "nbformat_minor": 2
}
