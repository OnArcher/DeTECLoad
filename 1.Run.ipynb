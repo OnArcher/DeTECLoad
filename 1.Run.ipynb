{
 "cells": [
  {
   "cell_type": "markdown",
   "metadata": {},
   "source": [
    "# DeTECLoad"
   ]
  },
  {
   "cell_type": "markdown",
   "metadata": {},
   "source": [
    "## 1. INITIATION"
   ]
  },
  {
   "cell_type": "markdown",
   "metadata": {},
   "source": [
    "### 1.1 API"
   ]
  },
  {
   "cell_type": "code",
   "execution_count": 1,
   "metadata": {},
   "outputs": [],
   "source": [
    "import os\n",
    "import csv\n",
    "import pandas as pd\n",
    "import numpy as np\n",
    "import matplotlib\n",
    "import matplotlib.pyplot as plt\n",
    "\n",
    "from sklearn.model_selection import train_test_split\n",
    "from sklearn.metrics import accuracy_score, confusion_matrix\n",
    "\n",
    "import tensorflow.keras\n",
    "from tensorflow.keras import regularizers\n",
    "from tensorflow.keras.models import Sequential, Model, load_model\n",
    "from tensorflow.keras.layers import TimeDistributed, LSTM, Dense, Activation, Flatten, Dropout, BatchNormalization, Input\n",
    "from tensorflow.keras.layers import Conv2D, MaxPooling2D\n",
    "from tensorflow.keras.layers import concatenate\n",
    "from tensorflow.keras.utils import to_categorical\n",
    "from tensorflow.keras.utils import plot_model\n",
    "from tensorflow.keras.callbacks import ModelCheckpoint, CSVLogger"
   ]
  },
  {
   "cell_type": "markdown",
   "metadata": {},
   "source": [
    "### 1.2 Font"
   ]
  },
  {
   "cell_type": "code",
   "execution_count": 2,
   "metadata": {},
   "outputs": [],
   "source": [
    "LabelFont = {'family' : 'Times New Roman',\n",
    "             'weight' : 'normal',\n",
    "             'size'   : 25}\n",
    "\n",
    "UnitFont = {'family' : 'Times New Roman',\n",
    "            'weight' : 'normal',\n",
    "            'size'   : 20}"
   ]
  },
  {
   "cell_type": "markdown",
   "metadata": {},
   "source": [
    "### 1.3 Supporting File"
   ]
  },
  {
   "cell_type": "code",
   "execution_count": 3,
   "metadata": {},
   "outputs": [],
   "source": [
    "%run \"4.Classifier_CNN-LSTM.ipynb\""
   ]
  },
  {
   "cell_type": "markdown",
   "metadata": {},
   "source": [
    "## 2. LOAD DATA"
   ]
  },
  {
   "cell_type": "code",
   "execution_count": 4,
   "metadata": {},
   "outputs": [],
   "source": [
    "DIR_Subject = ['S1', 'S2', 'S3', 'S4', 'S5', 'S6', 'S8', 'S9', 'S10', 'S11', 'S12', 'S13', 'S14', 'S15']\n",
    "DIR_GL = '../2. Result/1. Feature/1. GL/'\n",
    "DIR_GR = '../2. Result/1. Feature/2. GR/'\n",
    "DIR_W = '../2. Result/1. Feature/3. W/'"
   ]
  },
  {
   "cell_type": "markdown",
   "metadata": {},
   "source": [
    "### 2.1 Accleration"
   ]
  },
  {
   "cell_type": "code",
   "execution_count": 5,
   "metadata": {},
   "outputs": [],
   "source": [
    "Feature_Set_Acc_L = []\n",
    "Label_Weight_Set_Acc_L = []\n",
    "Label_Posture_Set_Acc_L = []\n",
    "\n",
    "for i in range(0,len(DIR_Subject)):\n",
    "    \n",
    "    Feature = pd.read_csv(DIR_GL + DIR_Subject[i] + '_Acc_L_Feature.csv')\n",
    "    Label_Weight = pd.read_csv(DIR_GL + DIR_Subject[i] + '_Acc_L_Label_Weight.csv')\n",
    "    Label_Posture = pd.read_csv(DIR_GL + DIR_Subject[i] + '_Acc_L_Label_Posture.csv')\n",
    "\n",
    "    Feature_Set_Acc_L.append(Feature)\n",
    "    Label_Weight_Set_Acc_L.append(Label_Weight)\n",
    "    Label_Posture_Set_Acc_L.append(Label_Posture)\n",
    "        \n",
    "    del Feature\n",
    "    del Label_Weight\n",
    "    del Label_Posture\n",
    "    \n",
    "    \n",
    "Feature_Set_Acc_R = []\n",
    "Label_Weight_Set_Acc_R = []\n",
    "Label_Posture_Set_Acc_R = []\n",
    "\n",
    "for i in range(0,len(DIR_Subject)):\n",
    "    \n",
    "    Feature = pd.read_csv(DIR_GR + DIR_Subject[i] + '_Acc_R_Feature.csv')\n",
    "    Label_Weight = pd.read_csv(DIR_GR + DIR_Subject[i] + '_Acc_R_Label_Weight.csv')\n",
    "    Label_Posture = pd.read_csv(DIR_GR + DIR_Subject[i] + '_Acc_R_Label_Posture.csv')\n",
    "\n",
    "    Feature_Set_Acc_R.append(Feature)\n",
    "    Label_Weight_Set_Acc_R.append(Label_Weight)\n",
    "    Label_Posture_Set_Acc_R.append(Label_Posture)\n",
    "        \n",
    "    del Feature\n",
    "    del Label_Weight\n",
    "    del Label_Posture\n",
    "    \n",
    "    \n",
    "Feature_Set_Acc_W = []\n",
    "Label_Weight_Set_Acc_W = []\n",
    "Label_Posture_Set_Acc_W = []\n",
    "\n",
    "for i in range(0,len(DIR_Subject)):\n",
    "    \n",
    "    Feature = pd.read_csv(DIR_W + DIR_Subject[i] + '_Acc_W_Feature.csv')\n",
    "    Label_Weight = pd.read_csv(DIR_W + DIR_Subject[i] + '_Acc_W_Label_Weight.csv')\n",
    "    Label_Posture = pd.read_csv(DIR_W + DIR_Subject[i] + '_Acc_W_Label_Posture.csv')\n",
    "\n",
    "    Feature_Set_Acc_W.append(Feature)\n",
    "    Label_Weight_Set_Acc_W.append(Label_Weight)\n",
    "    Label_Posture_Set_Acc_W.append(Label_Posture)\n",
    "        \n",
    "    del Feature\n",
    "    del Label_Weight\n",
    "    del Label_Posture"
   ]
  },
  {
   "cell_type": "code",
   "execution_count": 6,
   "metadata": {},
   "outputs": [],
   "source": [
    "Feature_Set_Acc_L = np.vstack(Feature_Set_Acc_L)\n",
    "Label_Weight_Set_Acc_L = np.vstack(Label_Weight_Set_Acc_L)\n",
    "Label_Posture_Set_Acc_L = np.vstack(Label_Posture_Set_Acc_L)\n",
    "\n",
    "Feature_Set_Acc_L = np.array(Feature_Set_Acc_L)\n",
    "Label_Weight_Set_Acc_L = np.array(Label_Weight_Set_Acc_L)\n",
    "Label_Posture_Set_Acc_L = np.array(Label_Posture_Set_Acc_L)\n",
    "\n",
    "Feature_Set_Acc_L = Feature_Set_Acc_L.reshape(len(Label_Weight_Set_Acc_L),6,3,30,30)\n",
    "\n",
    "\n",
    "Feature_Set_Acc_R = np.vstack(Feature_Set_Acc_R)\n",
    "Label_Weight_Set_Acc_R = np.vstack(Label_Weight_Set_Acc_R)\n",
    "Label_Posture_Set_Acc_R = np.vstack(Label_Posture_Set_Acc_R)\n",
    "\n",
    "Feature_Set_Acc_R = np.array(Feature_Set_Acc_R)\n",
    "Label_Weight_Set_Acc_R = np.array(Label_Weight_Set_Acc_R)\n",
    "Label_Posture_Set_Acc_R = np.array(Label_Posture_Set_Acc_R)\n",
    "\n",
    "Feature_Set_Acc_R = Feature_Set_Acc_R.reshape(len(Label_Weight_Set_Acc_R),6,3,30,30)\n",
    "\n",
    "\n",
    "Feature_Set_Acc_W = np.vstack(Feature_Set_Acc_W)\n",
    "Label_Weight_Set_Acc_W = np.vstack(Label_Weight_Set_Acc_W)\n",
    "Label_Posture_Set_Acc_W = np.vstack(Label_Posture_Set_Acc_W)\n",
    "\n",
    "Feature_Set_Acc_W = np.array(Feature_Set_Acc_W)\n",
    "Label_Weight_Set_Acc_W = np.array(Label_Weight_Set_Acc_W)\n",
    "Label_Posture_Set_Acc_W = np.array(Label_Posture_Set_Acc_W)\n",
    "\n",
    "Feature_Set_Acc_W = Feature_Set_Acc_W.reshape(len(Label_Weight_Set_Acc_W),6,3,30,30)"
   ]
  },
  {
   "cell_type": "code",
   "execution_count": 7,
   "metadata": {},
   "outputs": [],
   "source": [
    "Data_Train_Acc_L, Data_Test_Acc_L, Label_Weight_Train_Acc_L, Label_Weight_Test_Acc_L, Label_Posture_Train_Acc_L, Label_Posture_Test_Acc_L = train_test_split(Feature_Set_Acc_L, Label_Weight_Set_Acc_L, Label_Posture_Set_Acc_L, test_size = 0.3, random_state=7, shuffle=True)\n",
    "Data_Train_Acc_L, Data_Val_Acc_L, Label_Weight_Train_Acc_L, Label_Weight_Val_Acc_L, Label_Posture_Train_Acc_L, Label_Posture_Val_Acc_L = train_test_split(Data_Train_Acc_L, Label_Weight_Train_Acc_L, Label_Posture_Train_Acc_L, test_size = 0.1, random_state=7, shuffle=True)\n",
    "\n",
    "Data_Train_Acc_L = np.array(Data_Train_Acc_L)\n",
    "Data_Val_Acc_L = np.array(Data_Val_Acc_L)\n",
    "Data_Test_Acc_L = np.array(Data_Test_Acc_L)\n",
    "\n",
    "\n",
    "Data_Train_Acc_R, Data_Test_Acc_R, Label_Weight_Train_Acc_R, Label_Weight_Test_Acc_R, Label_Posture_Train_Acc_R, Label_Posture_Test_Acc_R = train_test_split(Feature_Set_Acc_R, Label_Weight_Set_Acc_R, Label_Posture_Set_Acc_R, test_size = 0.3, random_state=7, shuffle=True)\n",
    "Data_Train_Acc_R, Data_Val_Acc_R, Label_Weight_Train_Acc_R, Label_Weight_Val_Acc_R, Label_Posture_Train_Acc_R, Label_Posture_Val_Acc_R = train_test_split(Data_Train_Acc_R, Label_Weight_Train_Acc_R, Label_Posture_Train_Acc_R, test_size = 0.1, random_state=7, shuffle=True)\n",
    "\n",
    "Data_Train_Acc_R = np.array(Data_Train_Acc_R)\n",
    "Data_Val_Acc_R = np.array(Data_Val_Acc_R)\n",
    "Data_Test_Acc_R = np.array(Data_Test_Acc_R)\n",
    "\n",
    "\n",
    "Data_Train_Acc_W, Data_Test_Acc_W, Label_Weight_Train_Acc_W, Label_Weight_Test_Acc_W, Label_Posture_Train_Acc_W, Label_Posture_Test_Acc_W = train_test_split(Feature_Set_Acc_W, Label_Weight_Set_Acc_W, Label_Posture_Set_Acc_W, test_size = 0.3, random_state=7, shuffle=True)\n",
    "Data_Train_Acc_W, Data_Val_Acc_W, Label_Weight_Train_Acc_W, Label_Weight_Val_Acc_W, Label_Posture_Train_Acc_W, Label_Posture_Val_Acc_W = train_test_split(Data_Train_Acc_W, Label_Weight_Train_Acc_W, Label_Posture_Train_Acc_W, test_size = 0.1, random_state=7, shuffle=True)\n",
    "\n",
    "Data_Train_Acc_W = np.array(Data_Train_Acc_W)\n",
    "Data_Val_Acc_W = np.array(Data_Val_Acc_W)\n",
    "Data_Test_Acc_W = np.array(Data_Test_Acc_W)"
   ]
  },
  {
   "cell_type": "code",
   "execution_count": 8,
   "metadata": {},
   "outputs": [
    {
     "name": "stdout",
     "output_type": "stream",
     "text": [
      "(2116, 6, 3, 30, 30)\n",
      "(236, 6, 3, 30, 30)\n",
      "(1008, 6, 3, 30, 30)\n",
      "(2116, 3)\n",
      "(2116, 2)\n",
      "(2116, 6, 3, 30, 30)\n",
      "(236, 6, 3, 30, 30)\n",
      "(1008, 6, 3, 30, 30)\n",
      "(2116, 3)\n",
      "(2116, 2)\n",
      "(2116, 6, 3, 30, 30)\n",
      "(236, 6, 3, 30, 30)\n",
      "(1008, 6, 3, 30, 30)\n",
      "(2116, 3)\n",
      "(2116, 2)\n"
     ]
    }
   ],
   "source": [
    "print(Data_Train_Acc_L.shape)\n",
    "print(Data_Val_Acc_L.shape)\n",
    "print(Data_Test_Acc_L.shape)\n",
    "print(Label_Weight_Train_Acc_L.shape)\n",
    "print(Label_Posture_Train_Acc_L.shape)\n",
    "\n",
    "print(Data_Train_Acc_R.shape)\n",
    "print(Data_Val_Acc_R.shape)\n",
    "print(Data_Test_Acc_R.shape)\n",
    "print(Label_Weight_Train_Acc_R.shape)\n",
    "print(Label_Posture_Train_Acc_R.shape)\n",
    "\n",
    "print(Data_Train_Acc_W.shape)\n",
    "print(Data_Val_Acc_W.shape)\n",
    "print(Data_Test_Acc_W.shape)\n",
    "print(Label_Weight_Train_Acc_W.shape)\n",
    "print(Label_Posture_Train_Acc_W.shape)"
   ]
  },
  {
   "cell_type": "markdown",
   "metadata": {},
   "source": [
    "### 2.2 Angular Velocity"
   ]
  },
  {
   "cell_type": "code",
   "execution_count": 9,
   "metadata": {},
   "outputs": [],
   "source": [
    "Feature_Set_Ang_L = []\n",
    "Label_Weight_Set_Ang_L = []\n",
    "Label_Posture_Set_Ang_L = []\n",
    "\n",
    "for i in range(0,len(DIR_Subject)):\n",
    "    \n",
    "    Feature = pd.read_csv(DIR_GL + DIR_Subject[i] + '_Ang_L_Feature.csv')\n",
    "    Label_Weight = pd.read_csv(DIR_GL + DIR_Subject[i] + '_Ang_L_Label_Weight.csv')\n",
    "    Label_Posture = pd.read_csv(DIR_GL + DIR_Subject[i] + '_Ang_L_Label_Posture.csv')\n",
    "\n",
    "    Feature_Set_Ang_L.append(Feature)\n",
    "    Label_Weight_Set_Ang_L.append(Label_Weight)\n",
    "    Label_Posture_Set_Ang_L.append(Label_Posture)\n",
    "        \n",
    "    del Feature\n",
    "    del Label_Weight\n",
    "    del Label_Posture\n",
    "    \n",
    "    \n",
    "Feature_Set_Ang_R = []\n",
    "Label_Weight_Set_Ang_R = []\n",
    "Label_Posture_Set_Ang_R = []\n",
    "\n",
    "for i in range(0,len(DIR_Subject)):\n",
    "    \n",
    "    Feature = pd.read_csv(DIR_GR + DIR_Subject[i] + '_Ang_R_Feature.csv')\n",
    "    Label_Weight = pd.read_csv(DIR_GR + DIR_Subject[i] + '_Ang_R_Label_Weight.csv')\n",
    "    Label_Posture = pd.read_csv(DIR_GR + DIR_Subject[i] + '_Ang_R_Label_Posture.csv')\n",
    "\n",
    "    Feature_Set_Ang_R.append(Feature)\n",
    "    Label_Weight_Set_Ang_R.append(Label_Weight)\n",
    "    Label_Posture_Set_Ang_R.append(Label_Posture)\n",
    "        \n",
    "    del Feature\n",
    "    del Label_Weight\n",
    "    del Label_Posture\n",
    "\n",
    "\n",
    "Feature_Set_Ang_W = []\n",
    "Label_Weight_Set_Ang_W = []\n",
    "Label_Posture_Set_Ang_W = []\n",
    "\n",
    "for i in range(0,len(DIR_Subject)):\n",
    "    \n",
    "    Feature = pd.read_csv(DIR_W + DIR_Subject[i] + '_Ang_W_Feature.csv')\n",
    "    Label_Weight = pd.read_csv(DIR_W + DIR_Subject[i] + '_Ang_W_Label_Weight.csv')\n",
    "    Label_Posture = pd.read_csv(DIR_W + DIR_Subject[i] + '_Ang_W_Label_Posture.csv')\n",
    "\n",
    "    Feature_Set_Ang_W.append(Feature)\n",
    "    Label_Weight_Set_Ang_W.append(Label_Weight)\n",
    "    Label_Posture_Set_Ang_W.append(Label_Posture)\n",
    "        \n",
    "    del Feature\n",
    "    del Label_Weight\n",
    "    del Label_Posture"
   ]
  },
  {
   "cell_type": "code",
   "execution_count": 10,
   "metadata": {},
   "outputs": [],
   "source": [
    "Feature_Set_Ang_L = np.vstack(Feature_Set_Ang_L)\n",
    "Label_Weight_Set_Ang_L = np.vstack(Label_Weight_Set_Ang_L)\n",
    "Label_Posture_Set_Ang_L = np.vstack(Label_Posture_Set_Ang_L)\n",
    "\n",
    "Feature_Set_Ang_L = np.array(Feature_Set_Ang_L)\n",
    "Label_Weight_Set_Ang_L = np.array(Label_Weight_Set_Ang_L)\n",
    "Label_Posture_Set_Ang_L = np.array(Label_Posture_Set_Ang_L)\n",
    "\n",
    "Feature_Set_Ang_L = Feature_Set_Ang_L.reshape(len(Label_Weight_Set_Ang_L),6,3,30,30)\n",
    "\n",
    "\n",
    "Feature_Set_Ang_R = np.vstack(Feature_Set_Ang_R)\n",
    "Label_Weight_Set_Ang_R = np.vstack(Label_Weight_Set_Ang_R)\n",
    "Label_Posture_Set_Ang_R = np.vstack(Label_Posture_Set_Ang_R)\n",
    "\n",
    "Feature_Set_Ang_R = np.array(Feature_Set_Ang_R)\n",
    "Label_Weight_Set_Ang_R = np.array(Label_Weight_Set_Ang_R)\n",
    "Label_Posture_Set_Ang_R = np.array(Label_Posture_Set_Ang_R)\n",
    "\n",
    "Feature_Set_Ang_R = Feature_Set_Ang_R.reshape(len(Label_Weight_Set_Ang_R),6,3,30,30)\n",
    "\n",
    "\n",
    "Feature_Set_Ang_W = np.vstack(Feature_Set_Ang_W)\n",
    "Label_Weight_Set_Ang_W = np.vstack(Label_Weight_Set_Ang_W)\n",
    "Label_Posture_Set_Ang_W = np.vstack(Label_Posture_Set_Ang_W)\n",
    "\n",
    "Feature_Set_Ang_W = np.array(Feature_Set_Ang_W)\n",
    "Label_Weight_Set_Ang_W = np.array(Label_Weight_Set_Ang_W)\n",
    "Label_Posture_Set_Ang_W = np.array(Label_Posture_Set_Ang_W)\n",
    "\n",
    "Feature_Set_Ang_W = Feature_Set_Ang_W.reshape(len(Label_Weight_Set_Ang_W),6,3,30,30)"
   ]
  },
  {
   "cell_type": "code",
   "execution_count": 11,
   "metadata": {},
   "outputs": [],
   "source": [
    "Data_Train_Ang_L, Data_Test_Ang_L, Label_Weight_Train_Ang_L, Label_Weight_Test_Ang_L, Label_Posture_Train_Ang_L, Label_Posture_Test_Ang_L = train_test_split(Feature_Set_Ang_L, Label_Weight_Set_Ang_L, Label_Posture_Set_Ang_L, test_size = 0.3, random_state=7, shuffle=True)\n",
    "Data_Train_Ang_L, Data_Val_Ang_L, Label_Weight_Train_Ang_L, Label_Weight_Val_Ang_L, Label_Posture_Train_Ang_L, Label_Posture_Val_Ang_L = train_test_split(Data_Train_Ang_L, Label_Weight_Train_Ang_L, Label_Posture_Train_Ang_L, test_size = 0.1, random_state=7, shuffle=True)\n",
    "\n",
    "Data_Train_Ang_L = np.array(Data_Train_Ang_L)\n",
    "Data_Val_Ang_L = np.array(Data_Val_Ang_L)\n",
    "Data_Test_Ang_L = np.array(Data_Test_Ang_L)\n",
    "\n",
    "\n",
    "Data_Train_Ang_R, Data_Test_Ang_R, Label_Weight_Train_Ang_R, Label_Weight_Test_Ang_R, Label_Posture_Train_Ang_R, Label_Posture_Test_Ang_R = train_test_split(Feature_Set_Ang_R, Label_Weight_Set_Ang_R, Label_Posture_Set_Ang_R, test_size = 0.3, random_state=7, shuffle=True)\n",
    "Data_Train_Ang_R, Data_Val_Ang_R, Label_Weight_Train_Ang_R, Label_Weight_Val_Ang_R, Label_Posture_Train_Ang_R, Label_Posture_Val_Ang_R = train_test_split(Data_Train_Ang_R, Label_Weight_Train_Ang_R, Label_Posture_Train_Ang_R, test_size = 0.1, random_state=7, shuffle=True)\n",
    "\n",
    "Data_Train_Ang_R = np.array(Data_Train_Ang_R)\n",
    "Data_Val_Ang_R = np.array(Data_Val_Ang_R)\n",
    "Data_Test_Ang_R = np.array(Data_Test_Ang_R)\n",
    "\n",
    "\n",
    "Data_Train_Ang_W, Data_Test_Ang_W, Label_Weight_Train_Ang_W, Label_Weight_Test_Ang_W, Label_Posture_Train_Ang_W, Label_Posture_Test_Ang_W = train_test_split(Feature_Set_Ang_W, Label_Weight_Set_Ang_W, Label_Posture_Set_Ang_W, test_size = 0.3, random_state=7, shuffle=True)\n",
    "Data_Train_Ang_W, Data_Val_Ang_W, Label_Weight_Train_Ang_W, Label_Weight_Val_Ang_W, Label_Posture_Train_Ang_W, Label_Posture_Val_Ang_W = train_test_split(Data_Train_Ang_W, Label_Weight_Train_Ang_W, Label_Posture_Train_Ang_W, test_size = 0.1, random_state=7, shuffle=True)\n",
    "\n",
    "Data_Train_Ang_W = np.array(Data_Train_Ang_W)\n",
    "Data_Val_Ang_W = np.array(Data_Val_Ang_W)\n",
    "Data_Test_Ang_W = np.array(Data_Test_Ang_W)"
   ]
  },
  {
   "cell_type": "code",
   "execution_count": 12,
   "metadata": {},
   "outputs": [
    {
     "name": "stdout",
     "output_type": "stream",
     "text": [
      "(2116, 6, 3, 30, 30)\n",
      "(236, 6, 3, 30, 30)\n",
      "(1008, 6, 3, 30, 30)\n",
      "(2116, 3)\n",
      "(2116, 2)\n",
      "(2116, 6, 3, 30, 30)\n",
      "(236, 6, 3, 30, 30)\n",
      "(1008, 6, 3, 30, 30)\n",
      "(2116, 3)\n",
      "(2116, 2)\n",
      "(2116, 6, 3, 30, 30)\n",
      "(236, 6, 3, 30, 30)\n",
      "(1008, 6, 3, 30, 30)\n",
      "(2116, 3)\n",
      "(2116, 2)\n"
     ]
    }
   ],
   "source": [
    "print(Data_Train_Ang_L.shape)\n",
    "print(Data_Val_Ang_L.shape)\n",
    "print(Data_Test_Ang_L.shape)\n",
    "print(Label_Weight_Train_Ang_L.shape)\n",
    "print(Label_Posture_Train_Ang_L.shape)\n",
    "\n",
    "print(Data_Train_Ang_R.shape)\n",
    "print(Data_Val_Ang_R.shape)\n",
    "print(Data_Test_Ang_R.shape)\n",
    "print(Label_Weight_Train_Ang_R.shape)\n",
    "print(Label_Posture_Train_Ang_R.shape)\n",
    "\n",
    "print(Data_Train_Ang_W.shape)\n",
    "print(Data_Val_Ang_W.shape)\n",
    "print(Data_Test_Ang_W.shape)\n",
    "print(Label_Weight_Train_Ang_W.shape)\n",
    "print(Label_Posture_Train_Ang_W.shape)"
   ]
  },
  {
   "cell_type": "markdown",
   "metadata": {},
   "source": [
    "## 3. SELECTION"
   ]
  },
  {
   "cell_type": "code",
   "execution_count": 13,
   "metadata": {},
   "outputs": [],
   "source": [
    "Name = 'R'"
   ]
  },
  {
   "cell_type": "markdown",
   "metadata": {},
   "source": [
    "## 4. TRAIN"
   ]
  },
  {
   "cell_type": "markdown",
   "metadata": {},
   "source": [
    "### 4.1 Training"
   ]
  },
  {
   "cell_type": "code",
   "execution_count": null,
   "metadata": {},
   "outputs": [],
   "source": [
    "# Variable #\n",
    "W = len(Feature_Set_Acc_R[0])\n",
    "X = len(Feature_Set_Acc_R[0][0])\n",
    "Y = len(Feature_Set_Acc_R[0][0][0])\n",
    "Z = len(Feature_Set_Acc_R[0][0][0])\n",
    "\n",
    "\n",
    "# History #\n",
    "Wei = ModelCheckpoint(Name + '_Weight.hdf5', monitor='val_Model_Weight_acc', verbose=1, save_best_only=True, mode='max')\n",
    "Pos = ModelCheckpoint(Name + '_Posture.hdf5', monitor='val_Model_Posture_acc', verbose=1, save_best_only=True, mode='max')\n",
    "His = CSVLogger(Name + '_History.csv', append=True, separator=';')\n",
    "\n",
    "\n",
    "# Train #\n",
    "Model_Final = Model_GR(3, 2) # Weigth, Posture\n",
    "History = Model_Final.fit([Data_Train_Acc_R, Data_Train_Ang_R], [Label_Weight_Train_Acc_R, Label_Posture_Train_Acc_R], validation_data=([Data_Val_Acc_R, Data_Val_Ang_R], [Label_Weight_Val_Acc_R, Label_Posture_Val_Acc_R]), batch_size=10, epochs=500, callbacks=[Wei, Pos, His], verbose=1)\n",
    "\n",
    "plot_model(Model_Final, to_file=Name +'_Model.png', show_shapes=True, show_layer_names=True)"
   ]
  },
  {
   "cell_type": "markdown",
   "metadata": {},
   "source": [
    "### 4.2 History"
   ]
  },
  {
   "cell_type": "code",
   "execution_count": null,
   "metadata": {},
   "outputs": [],
   "source": [
    "## ACCURACY ##\n",
    "plt.figure(figsize=(6,4))\n",
    "plt.title('Model Weight Accuracy', **LabelFont)\n",
    "plt.ylabel('Accuracy', **LabelFont)\n",
    "plt.xlabel('Epoch', **LabelFont)\n",
    "plt.xlim(0,500)\n",
    "plt.ylim(0,1)\n",
    "plt.xticks(np.linspace(0,500,6), **UnitFont)\n",
    "plt.yticks(np.linspace(0,1,6), **UnitFont)\n",
    "plt.plot(History.history['Model_Weight_acc'], 'black')\n",
    "plt.plot(History.history['val_Model_Weight_acc'], 'gray')\n",
    "plt.legend(['Train', 'Val', 'Test'], loc='lower right', prop={'family' : 'Times New Roman', 'size': 15})\n",
    "plt.savefig(Name + '_Weight_Acc.png', bbox_inches='tight', dpi=300, transparent = True)\n",
    "plt.show()\n",
    "\n",
    "plt.figure(figsize=(6,4))\n",
    "plt.title('Model Posture Accuracy', **LabelFont)\n",
    "plt.ylabel('Accuracy', **LabelFont)\n",
    "plt.xlabel('Epoch', **LabelFont)\n",
    "plt.xlim(0,500)\n",
    "plt.ylim(0,1)\n",
    "plt.xticks(np.linspace(0,500,6), **UnitFont)\n",
    "plt.yticks(np.linspace(0,1,6), **UnitFont)\n",
    "plt.plot(History.history['Model_Posture_acc'], 'black')\n",
    "plt.plot(History.history['val_Model_Posture_acc'], 'gray')\n",
    "plt.legend(['Train', 'Val', 'Test'], loc='lower right', prop={'family' : 'Times New Roman', 'size': 15})\n",
    "plt.savefig(Name + '_Posture_Acc.png', bbox_inches='tight', dpi=300, transparent = True)\n",
    "plt.show()\n",
    "\n",
    "\n",
    "## LOSS ##\n",
    "plt.figure(figsize=(6,4))\n",
    "plt.title('Model Weight Loss',**LabelFont)\n",
    "plt.ylabel('Loss', **LabelFont)\n",
    "plt.xlabel('Epoch', **LabelFont)\n",
    "plt.xlim(0,500)\n",
    "plt.ylim(0,15)\n",
    "plt.xticks(np.linspace(0,500,6), **UnitFont)\n",
    "plt.yticks(np.linspace(0,15,6), **UnitFont)\n",
    "plt.plot(History.history['Model_Weight_loss'], 'black')\n",
    "plt.plot(History.history['val_Model_Weight_loss'], 'gray')\n",
    "plt.legend(['Train', 'Val', 'Test'], loc='upper right', prop={'family' : 'Times New Roman', 'size': 15})\n",
    "plt.savefig(Name + '_Weight_Loss.png', bbox_inches='tight', dpi=300, transparent = True)\n",
    "plt.show()\n",
    "\n",
    "plt.figure(figsize=(6,4))\n",
    "plt.title('Model Posture Loss',**LabelFont)\n",
    "plt.ylabel('Loss', **LabelFont)\n",
    "plt.xlabel('Epoch', **LabelFont)\n",
    "plt.xlim(0,500)\n",
    "plt.ylim(0,15)\n",
    "plt.xticks(np.linspace(0,500,6), **UnitFont)\n",
    "plt.yticks(np.linspace(0,15,6), **UnitFont)\n",
    "plt.plot(History.history['Model_Posture_loss'], 'black')\n",
    "plt.plot(History.history['val_Model_Posture_loss'], 'gray')\n",
    "plt.legend(['Train', 'Val', 'Test'], loc='upper right', prop={'family' : 'Times New Roman', 'size': 15})\n",
    "plt.savefig(Name + '_Posture_Loss.png', bbox_inches='tight', dpi=300, transparent = True)\n",
    "plt.show()"
   ]
  },
  {
   "cell_type": "markdown",
   "metadata": {},
   "source": [
    "## 5. TEST"
   ]
  },
  {
   "cell_type": "code",
   "execution_count": 14,
   "metadata": {
    "scrolled": false
   },
   "outputs": [
    {
     "name": "stdout",
     "output_type": "stream",
     "text": [
      "1008/1008 [==============================] - 4s 4ms/sample - loss: 0.5894 - Model_Weight_loss: 0.4303 - Model_Position_loss: 0.1662 - Model_Weight_accuracy: 0.9077 - Model_Position_accuracy: 0.9633\n"
     ]
    },
    {
     "data": {
      "image/png": "[encoded data removed]",
      "text/plain": [
       "<Figure size 432x432 with 1 Axes>"
      ]
     },
     "metadata": {
      "needs_background": "light"
     },
     "output_type": "display_data"
    },
    {
     "name": "stdout",
     "output_type": "stream",
     "text": [
      "1008/1008 [==============================] - 2s 2ms/sample - loss: 0.6642 - Model_Weight_loss: 0.4849 - Model_Position_loss: 0.1740 - Model_Weight_accuracy: 0.8700 - Model_Position_accuracy: 0.9534\n"
     ]
    },
    {
     "data": {
      "image/png": "[encoded data removed]",
      "text/plain": [
       "<Figure size 432x432 with 1 Axes>"
      ]
     },
     "metadata": {
      "needs_background": "light"
     },
     "output_type": "display_data"
    },
    {
     "name": "stdout",
     "output_type": "stream",
     "text": [
      "Weight_W_ 90.77380895614624\n",
      "Posture_W_ 96.32936716079712\n",
      "Weight_P_ 87.0039701461792\n",
      "Posture_P_ 95.33730149269104\n"
     ]
    }
   ],
   "source": [
    "## Single IMU ##\n",
    "DIR_Weight = '../2. Result/2. Performance/2. R/'\n",
    "\n",
    "Data_Test_Acc = Data_Test_Acc_R\n",
    "Data_Test_Ang = Data_Test_Ang_R\n",
    "Label_Weight_Test_Acc = Label_Weight_Test_Acc_R\n",
    "Label_Posture_Test_Acc = Label_Posture_Test_Acc_R\n",
    "\n",
    "Model_Test(DIR_Weight + Name + '_Weight.hdf5', DIR_Weight + Name + '_Posture.hdf5')"
   ]
  }
 ],
 "metadata": {
  "kernelspec": {
   "display_name": "Python 3",
   "language": "python",
   "name": "python3"
  },
  "language_info": {
   "codemirror_mode": {
    "name": "ipython",
    "version": 3
   },
   "file_extension": ".py",
   "mimetype": "text/x-python",
   "name": "python",
   "nbconvert_exporter": "python",
   "pygments_lexer": "ipython3",
   "version": "3.6.5"
  }
 },
 "nbformat": 4,
 "nbformat_minor": 2
}
