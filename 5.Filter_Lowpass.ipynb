{
 "cells": [
  {
   "cell_type": "markdown",
   "metadata": {},
   "source": [
    "# FILTER LOWPASS"
   ]
  },
  {
   "cell_type": "markdown",
   "metadata": {},
   "source": [
    "## 1. Setting"
   ]
  },
  {
   "cell_type": "code",
   "execution_count": null,
   "metadata": {},
   "outputs": [],
   "source": [
    "def Filter_BL_Set(Data):\n",
    "    \n",
    "    NYQ = 0.5 * SR\n",
    "    Normal_Cutoff = Cutoff / NYQ\n",
    "    BB, AA = signal.butter(Order, Normal_Cutoff, btype='low', analog=False)\n",
    "\n",
    "    BL_Data_Set = signal.lfilter(BB, AA, Data)\n",
    "    \n",
    "    return BL_Data_Set"
   ]
  },
  {
   "cell_type": "markdown",
   "metadata": {},
   "source": [
    "## 2. Application"
   ]
  },
  {
   "cell_type": "code",
   "execution_count": null,
   "metadata": {},
   "outputs": [],
   "source": [
    "def Filter_BL(Data):\n",
    "    \n",
    "    BL_Data = np.zeros(Data.shape)\n",
    "    PacketNumber = len(Data)\n",
    "\n",
    "    Sub_Data = np.zeros(PacketNumber + DelayNumber,)\n",
    "    Sub_Data[0:DelayNumber] = Data[0:DelayNumber]\n",
    "    Sub_Data[DelayNumber:PacketNumber + DelayNumber] = Data\n",
    "    BL_Sub_Data = Filter_BL_Set(Sub_Data)\n",
    "    BL_Data = BL_Sub_Data[DelayNumber:PacketNumber + DelayNumber]\n",
    "\n",
    "    return BL_Data"
   ]
  }
 ],
 "metadata": {
  "kernelspec": {
   "display_name": "Python 3",
   "language": "python",
   "name": "python3"
  },
  "language_info": {
   "codemirror_mode": {
    "name": "ipython",
    "version": 3
   },
   "file_extension": ".py",
   "mimetype": "text/x-python",
   "name": "python",
   "nbconvert_exporter": "python",
   "pygments_lexer": "ipython3",
   "version": "3.6.5"
  }
 },
 "nbformat": 4,
 "nbformat_minor": 2
}
